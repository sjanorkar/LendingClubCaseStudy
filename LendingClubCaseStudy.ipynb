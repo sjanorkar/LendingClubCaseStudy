{
 "cells": [
  {
   "cell_type": "markdown",
   "id": "a3a29f1f",
   "metadata": {},
   "source": [
    "## import required python packages\n"
   ]
  },
  {
   "cell_type": "code",
   "execution_count": 55,
   "id": "460ea6df",
   "metadata": {},
   "outputs": [],
   "source": [
    "import pandas as pd\n",
    "import matplotlib.pyplot as plt\n",
    "import numpy as np\n",
    "import warnings\n",
    "warnings.filterwarnings(\"ignore\")\n",
    "import seaborn as sns"
   ]
  },
  {
   "cell_type": "markdown",
   "id": "03486864",
   "metadata": {},
   "source": [
    "## import loan.csv file and print first 5 records"
   ]
  },
  {
   "cell_type": "code",
   "execution_count": 2,
   "id": "275a7c01",
   "metadata": {
    "scrolled": true
   },
   "outputs": [
    {
     "name": "stderr",
     "output_type": "stream",
     "text": [
      "/var/folders/wc/s5jc1qxj0ksc58r77p3225n00000gn/T/ipykernel_60556/3677655166.py:1: DtypeWarning: Columns (47) have mixed types. Specify dtype option on import or set low_memory=False.\n",
      "  loan = pd.read_csv('loan.csv')\n"
     ]
    },
    {
     "data": {
      "text/html": [
       "<div>\n",
       "<style scoped>\n",
       "    .dataframe tbody tr th:only-of-type {\n",
       "        vertical-align: middle;\n",
       "    }\n",
       "\n",
       "    .dataframe tbody tr th {\n",
       "        vertical-align: top;\n",
       "    }\n",
       "\n",
       "    .dataframe thead th {\n",
       "        text-align: right;\n",
       "    }\n",
       "</style>\n",
       "<table border=\"1\" class=\"dataframe\">\n",
       "  <thead>\n",
       "    <tr style=\"text-align: right;\">\n",
       "      <th></th>\n",
       "      <th>id</th>\n",
       "      <th>member_id</th>\n",
       "      <th>loan_amnt</th>\n",
       "      <th>funded_amnt</th>\n",
       "      <th>funded_amnt_inv</th>\n",
       "      <th>term</th>\n",
       "      <th>int_rate</th>\n",
       "      <th>installment</th>\n",
       "      <th>grade</th>\n",
       "      <th>sub_grade</th>\n",
       "      <th>...</th>\n",
       "      <th>num_tl_90g_dpd_24m</th>\n",
       "      <th>num_tl_op_past_12m</th>\n",
       "      <th>pct_tl_nvr_dlq</th>\n",
       "      <th>percent_bc_gt_75</th>\n",
       "      <th>pub_rec_bankruptcies</th>\n",
       "      <th>tax_liens</th>\n",
       "      <th>tot_hi_cred_lim</th>\n",
       "      <th>total_bal_ex_mort</th>\n",
       "      <th>total_bc_limit</th>\n",
       "      <th>total_il_high_credit_limit</th>\n",
       "    </tr>\n",
       "  </thead>\n",
       "  <tbody>\n",
       "    <tr>\n",
       "      <th>0</th>\n",
       "      <td>1077501</td>\n",
       "      <td>1296599</td>\n",
       "      <td>5000</td>\n",
       "      <td>5000</td>\n",
       "      <td>4975.0</td>\n",
       "      <td>36 months</td>\n",
       "      <td>10.65%</td>\n",
       "      <td>162.87</td>\n",
       "      <td>B</td>\n",
       "      <td>B2</td>\n",
       "      <td>...</td>\n",
       "      <td>NaN</td>\n",
       "      <td>NaN</td>\n",
       "      <td>NaN</td>\n",
       "      <td>NaN</td>\n",
       "      <td>0.0</td>\n",
       "      <td>0.0</td>\n",
       "      <td>NaN</td>\n",
       "      <td>NaN</td>\n",
       "      <td>NaN</td>\n",
       "      <td>NaN</td>\n",
       "    </tr>\n",
       "    <tr>\n",
       "      <th>1</th>\n",
       "      <td>1077430</td>\n",
       "      <td>1314167</td>\n",
       "      <td>2500</td>\n",
       "      <td>2500</td>\n",
       "      <td>2500.0</td>\n",
       "      <td>60 months</td>\n",
       "      <td>15.27%</td>\n",
       "      <td>59.83</td>\n",
       "      <td>C</td>\n",
       "      <td>C4</td>\n",
       "      <td>...</td>\n",
       "      <td>NaN</td>\n",
       "      <td>NaN</td>\n",
       "      <td>NaN</td>\n",
       "      <td>NaN</td>\n",
       "      <td>0.0</td>\n",
       "      <td>0.0</td>\n",
       "      <td>NaN</td>\n",
       "      <td>NaN</td>\n",
       "      <td>NaN</td>\n",
       "      <td>NaN</td>\n",
       "    </tr>\n",
       "    <tr>\n",
       "      <th>2</th>\n",
       "      <td>1077175</td>\n",
       "      <td>1313524</td>\n",
       "      <td>2400</td>\n",
       "      <td>2400</td>\n",
       "      <td>2400.0</td>\n",
       "      <td>36 months</td>\n",
       "      <td>15.96%</td>\n",
       "      <td>84.33</td>\n",
       "      <td>C</td>\n",
       "      <td>C5</td>\n",
       "      <td>...</td>\n",
       "      <td>NaN</td>\n",
       "      <td>NaN</td>\n",
       "      <td>NaN</td>\n",
       "      <td>NaN</td>\n",
       "      <td>0.0</td>\n",
       "      <td>0.0</td>\n",
       "      <td>NaN</td>\n",
       "      <td>NaN</td>\n",
       "      <td>NaN</td>\n",
       "      <td>NaN</td>\n",
       "    </tr>\n",
       "    <tr>\n",
       "      <th>3</th>\n",
       "      <td>1076863</td>\n",
       "      <td>1277178</td>\n",
       "      <td>10000</td>\n",
       "      <td>10000</td>\n",
       "      <td>10000.0</td>\n",
       "      <td>36 months</td>\n",
       "      <td>13.49%</td>\n",
       "      <td>339.31</td>\n",
       "      <td>C</td>\n",
       "      <td>C1</td>\n",
       "      <td>...</td>\n",
       "      <td>NaN</td>\n",
       "      <td>NaN</td>\n",
       "      <td>NaN</td>\n",
       "      <td>NaN</td>\n",
       "      <td>0.0</td>\n",
       "      <td>0.0</td>\n",
       "      <td>NaN</td>\n",
       "      <td>NaN</td>\n",
       "      <td>NaN</td>\n",
       "      <td>NaN</td>\n",
       "    </tr>\n",
       "    <tr>\n",
       "      <th>4</th>\n",
       "      <td>1075358</td>\n",
       "      <td>1311748</td>\n",
       "      <td>3000</td>\n",
       "      <td>3000</td>\n",
       "      <td>3000.0</td>\n",
       "      <td>60 months</td>\n",
       "      <td>12.69%</td>\n",
       "      <td>67.79</td>\n",
       "      <td>B</td>\n",
       "      <td>B5</td>\n",
       "      <td>...</td>\n",
       "      <td>NaN</td>\n",
       "      <td>NaN</td>\n",
       "      <td>NaN</td>\n",
       "      <td>NaN</td>\n",
       "      <td>0.0</td>\n",
       "      <td>0.0</td>\n",
       "      <td>NaN</td>\n",
       "      <td>NaN</td>\n",
       "      <td>NaN</td>\n",
       "      <td>NaN</td>\n",
       "    </tr>\n",
       "  </tbody>\n",
       "</table>\n",
       "<p>5 rows × 111 columns</p>\n",
       "</div>"
      ],
      "text/plain": [
       "        id  member_id  loan_amnt  funded_amnt  funded_amnt_inv        term  \\\n",
       "0  1077501    1296599       5000         5000           4975.0   36 months   \n",
       "1  1077430    1314167       2500         2500           2500.0   60 months   \n",
       "2  1077175    1313524       2400         2400           2400.0   36 months   \n",
       "3  1076863    1277178      10000        10000          10000.0   36 months   \n",
       "4  1075358    1311748       3000         3000           3000.0   60 months   \n",
       "\n",
       "  int_rate  installment grade sub_grade  ... num_tl_90g_dpd_24m  \\\n",
       "0   10.65%       162.87     B        B2  ...                NaN   \n",
       "1   15.27%        59.83     C        C4  ...                NaN   \n",
       "2   15.96%        84.33     C        C5  ...                NaN   \n",
       "3   13.49%       339.31     C        C1  ...                NaN   \n",
       "4   12.69%        67.79     B        B5  ...                NaN   \n",
       "\n",
       "  num_tl_op_past_12m pct_tl_nvr_dlq  percent_bc_gt_75 pub_rec_bankruptcies  \\\n",
       "0                NaN            NaN               NaN                  0.0   \n",
       "1                NaN            NaN               NaN                  0.0   \n",
       "2                NaN            NaN               NaN                  0.0   \n",
       "3                NaN            NaN               NaN                  0.0   \n",
       "4                NaN            NaN               NaN                  0.0   \n",
       "\n",
       "  tax_liens tot_hi_cred_lim total_bal_ex_mort total_bc_limit  \\\n",
       "0       0.0             NaN               NaN            NaN   \n",
       "1       0.0             NaN               NaN            NaN   \n",
       "2       0.0             NaN               NaN            NaN   \n",
       "3       0.0             NaN               NaN            NaN   \n",
       "4       0.0             NaN               NaN            NaN   \n",
       "\n",
       "  total_il_high_credit_limit  \n",
       "0                        NaN  \n",
       "1                        NaN  \n",
       "2                        NaN  \n",
       "3                        NaN  \n",
       "4                        NaN  \n",
       "\n",
       "[5 rows x 111 columns]"
      ]
     },
     "execution_count": 2,
     "metadata": {},
     "output_type": "execute_result"
    }
   ],
   "source": [
    "loan = pd.read_csv('loan.csv')\n",
    "loan.head()"
   ]
  },
  {
   "cell_type": "code",
   "execution_count": 44,
   "id": "9705f41d",
   "metadata": {},
   "outputs": [
    {
     "data": {
      "text/plain": [
       "id                              int64\n",
       "member_id                       int64\n",
       "loan_amnt                       int64\n",
       "funded_amnt                     int64\n",
       "funded_amnt_inv               float64\n",
       "                               ...   \n",
       "total_bal_ex_mort             float64\n",
       "total_bc_limit                float64\n",
       "total_il_high_credit_limit    float64\n",
       "issue_year                     object\n",
       "issue_month                    object\n",
       "Length: 113, dtype: object"
      ]
     },
     "execution_count": 44,
     "metadata": {},
     "output_type": "execute_result"
    }
   ],
   "source": [
    "loan.dtypes"
   ]
  },
  {
   "cell_type": "markdown",
   "id": "b4f8946f",
   "metadata": {},
   "source": [
    "## Data cleanup \n",
    "1. replace all NaN with 0\n",
    "2. remove % sign\n",
    "3. Convert interest rate to float\n",
    "4. Remove records with employment length as n/a"
   ]
  },
  {
   "cell_type": "code",
   "execution_count": 3,
   "id": "8c226531",
   "metadata": {},
   "outputs": [],
   "source": [
    "loan = loan.fillna(0)"
   ]
  },
  {
   "cell_type": "code",
   "execution_count": 4,
   "id": "bb341598",
   "metadata": {},
   "outputs": [],
   "source": [
    "loan.int_rate = loan.int_rate.apply(lambda x : x[:-1])"
   ]
  },
  {
   "cell_type": "code",
   "execution_count": null,
   "id": "0b6efb33",
   "metadata": {},
   "outputs": [],
   "source": [
    "loan.int_rate = loan.int_rate.astype(float)"
   ]
  },
  {
   "cell_type": "code",
   "execution_count": null,
   "id": "c9bffd24",
   "metadata": {},
   "outputs": [],
   "source": [
    "loan = loan[loan.emp_length != \"n/a\"]"
   ]
  },
  {
   "cell_type": "code",
   "execution_count": 7,
   "id": "89f7ae76",
   "metadata": {},
   "outputs": [
    {
     "data": {
      "text/html": [
       "<div>\n",
       "<style scoped>\n",
       "    .dataframe tbody tr th:only-of-type {\n",
       "        vertical-align: middle;\n",
       "    }\n",
       "\n",
       "    .dataframe tbody tr th {\n",
       "        vertical-align: top;\n",
       "    }\n",
       "\n",
       "    .dataframe thead th {\n",
       "        text-align: right;\n",
       "    }\n",
       "</style>\n",
       "<table border=\"1\" class=\"dataframe\">\n",
       "  <thead>\n",
       "    <tr style=\"text-align: right;\">\n",
       "      <th></th>\n",
       "      <th>id</th>\n",
       "      <th>member_id</th>\n",
       "      <th>loan_amnt</th>\n",
       "      <th>funded_amnt</th>\n",
       "      <th>funded_amnt_inv</th>\n",
       "      <th>term</th>\n",
       "      <th>int_rate</th>\n",
       "      <th>installment</th>\n",
       "      <th>grade</th>\n",
       "      <th>sub_grade</th>\n",
       "      <th>...</th>\n",
       "      <th>pct_tl_nvr_dlq</th>\n",
       "      <th>percent_bc_gt_75</th>\n",
       "      <th>pub_rec_bankruptcies</th>\n",
       "      <th>tax_liens</th>\n",
       "      <th>tot_hi_cred_lim</th>\n",
       "      <th>total_bal_ex_mort</th>\n",
       "      <th>total_bc_limit</th>\n",
       "      <th>total_il_high_credit_limit</th>\n",
       "      <th>issue_year</th>\n",
       "      <th>issue_month</th>\n",
       "    </tr>\n",
       "  </thead>\n",
       "  <tbody>\n",
       "    <tr>\n",
       "      <th>0</th>\n",
       "      <td>1077501</td>\n",
       "      <td>1296599</td>\n",
       "      <td>5000</td>\n",
       "      <td>5000</td>\n",
       "      <td>4975.0</td>\n",
       "      <td>36 months</td>\n",
       "      <td>10.65</td>\n",
       "      <td>162.87</td>\n",
       "      <td>B</td>\n",
       "      <td>B2</td>\n",
       "      <td>...</td>\n",
       "      <td>0.0</td>\n",
       "      <td>0.0</td>\n",
       "      <td>0.0</td>\n",
       "      <td>0.0</td>\n",
       "      <td>0.0</td>\n",
       "      <td>0.0</td>\n",
       "      <td>0.0</td>\n",
       "      <td>0.0</td>\n",
       "      <td>Dec</td>\n",
       "      <td>11</td>\n",
       "    </tr>\n",
       "    <tr>\n",
       "      <th>1</th>\n",
       "      <td>1077430</td>\n",
       "      <td>1314167</td>\n",
       "      <td>2500</td>\n",
       "      <td>2500</td>\n",
       "      <td>2500.0</td>\n",
       "      <td>60 months</td>\n",
       "      <td>15.27</td>\n",
       "      <td>59.83</td>\n",
       "      <td>C</td>\n",
       "      <td>C4</td>\n",
       "      <td>...</td>\n",
       "      <td>0.0</td>\n",
       "      <td>0.0</td>\n",
       "      <td>0.0</td>\n",
       "      <td>0.0</td>\n",
       "      <td>0.0</td>\n",
       "      <td>0.0</td>\n",
       "      <td>0.0</td>\n",
       "      <td>0.0</td>\n",
       "      <td>Dec</td>\n",
       "      <td>11</td>\n",
       "    </tr>\n",
       "    <tr>\n",
       "      <th>2</th>\n",
       "      <td>1077175</td>\n",
       "      <td>1313524</td>\n",
       "      <td>2400</td>\n",
       "      <td>2400</td>\n",
       "      <td>2400.0</td>\n",
       "      <td>36 months</td>\n",
       "      <td>15.96</td>\n",
       "      <td>84.33</td>\n",
       "      <td>C</td>\n",
       "      <td>C5</td>\n",
       "      <td>...</td>\n",
       "      <td>0.0</td>\n",
       "      <td>0.0</td>\n",
       "      <td>0.0</td>\n",
       "      <td>0.0</td>\n",
       "      <td>0.0</td>\n",
       "      <td>0.0</td>\n",
       "      <td>0.0</td>\n",
       "      <td>0.0</td>\n",
       "      <td>Dec</td>\n",
       "      <td>11</td>\n",
       "    </tr>\n",
       "    <tr>\n",
       "      <th>3</th>\n",
       "      <td>1076863</td>\n",
       "      <td>1277178</td>\n",
       "      <td>10000</td>\n",
       "      <td>10000</td>\n",
       "      <td>10000.0</td>\n",
       "      <td>36 months</td>\n",
       "      <td>13.49</td>\n",
       "      <td>339.31</td>\n",
       "      <td>C</td>\n",
       "      <td>C1</td>\n",
       "      <td>...</td>\n",
       "      <td>0.0</td>\n",
       "      <td>0.0</td>\n",
       "      <td>0.0</td>\n",
       "      <td>0.0</td>\n",
       "      <td>0.0</td>\n",
       "      <td>0.0</td>\n",
       "      <td>0.0</td>\n",
       "      <td>0.0</td>\n",
       "      <td>Dec</td>\n",
       "      <td>11</td>\n",
       "    </tr>\n",
       "    <tr>\n",
       "      <th>4</th>\n",
       "      <td>1075358</td>\n",
       "      <td>1311748</td>\n",
       "      <td>3000</td>\n",
       "      <td>3000</td>\n",
       "      <td>3000.0</td>\n",
       "      <td>60 months</td>\n",
       "      <td>12.69</td>\n",
       "      <td>67.79</td>\n",
       "      <td>B</td>\n",
       "      <td>B5</td>\n",
       "      <td>...</td>\n",
       "      <td>0.0</td>\n",
       "      <td>0.0</td>\n",
       "      <td>0.0</td>\n",
       "      <td>0.0</td>\n",
       "      <td>0.0</td>\n",
       "      <td>0.0</td>\n",
       "      <td>0.0</td>\n",
       "      <td>0.0</td>\n",
       "      <td>Dec</td>\n",
       "      <td>11</td>\n",
       "    </tr>\n",
       "  </tbody>\n",
       "</table>\n",
       "<p>5 rows × 113 columns</p>\n",
       "</div>"
      ],
      "text/plain": [
       "        id  member_id  loan_amnt  funded_amnt  funded_amnt_inv        term  \\\n",
       "0  1077501    1296599       5000         5000           4975.0   36 months   \n",
       "1  1077430    1314167       2500         2500           2500.0   60 months   \n",
       "2  1077175    1313524       2400         2400           2400.0   36 months   \n",
       "3  1076863    1277178      10000        10000          10000.0   36 months   \n",
       "4  1075358    1311748       3000         3000           3000.0   60 months   \n",
       "\n",
       "  int_rate  installment grade sub_grade  ... pct_tl_nvr_dlq percent_bc_gt_75  \\\n",
       "0    10.65       162.87     B        B2  ...            0.0              0.0   \n",
       "1    15.27        59.83     C        C4  ...            0.0              0.0   \n",
       "2    15.96        84.33     C        C5  ...            0.0              0.0   \n",
       "3    13.49       339.31     C        C1  ...            0.0              0.0   \n",
       "4    12.69        67.79     B        B5  ...            0.0              0.0   \n",
       "\n",
       "  pub_rec_bankruptcies  tax_liens tot_hi_cred_lim total_bal_ex_mort  \\\n",
       "0                  0.0        0.0             0.0               0.0   \n",
       "1                  0.0        0.0             0.0               0.0   \n",
       "2                  0.0        0.0             0.0               0.0   \n",
       "3                  0.0        0.0             0.0               0.0   \n",
       "4                  0.0        0.0             0.0               0.0   \n",
       "\n",
       "  total_bc_limit total_il_high_credit_limit issue_year issue_month  \n",
       "0            0.0                        0.0        Dec          11  \n",
       "1            0.0                        0.0        Dec          11  \n",
       "2            0.0                        0.0        Dec          11  \n",
       "3            0.0                        0.0        Dec          11  \n",
       "4            0.0                        0.0        Dec          11  \n",
       "\n",
       "[5 rows x 113 columns]"
      ]
     },
     "execution_count": 7,
     "metadata": {},
     "output_type": "execute_result"
    }
   ],
   "source": [
    "loan.head()"
   ]
  },
  {
   "cell_type": "markdown",
   "id": "a9f6523d",
   "metadata": {},
   "source": [
    "## Outliers removal\n",
    "##### Box plot the loan amount to remove the outliers"
   ]
  },
  {
   "cell_type": "code",
   "execution_count": 8,
   "id": "a2999281",
   "metadata": {
    "scrolled": true
   },
   "outputs": [
    {
     "data": {
      "image/png": "[encoded data removed]",
      "text/plain": [
       "<Figure size 432x288 with 1 Axes>"
      ]
     },
     "metadata": {
      "needs_background": "light"
     },
     "output_type": "display_data"
    }
   ],
   "source": [
    "plt.boxplot(loan.loan_amnt)\n",
    "plt.show()"
   ]
  },
  {
   "cell_type": "markdown",
   "id": "1deb0b46",
   "metadata": {},
   "source": [
    "##### Remove all the records having loan amount greater than 30000"
   ]
  },
  {
   "cell_type": "code",
   "execution_count": 9,
   "id": "1f5952f3",
   "metadata": {},
   "outputs": [],
   "source": [
    "loan = loan[loan.loan_amnt <= 30000]"
   ]
  },
  {
   "cell_type": "code",
   "execution_count": 10,
   "id": "fdcf5060",
   "metadata": {},
   "outputs": [
    {
     "data": {
      "image/png": "[encoded data removed]",
      "text/plain": [
       "<Figure size 432x288 with 1 Axes>"
      ]
     },
     "metadata": {
      "needs_background": "light"
     },
     "output_type": "display_data"
    }
   ],
   "source": [
    "plt.boxplot(loan.loan_amnt)\n",
    "plt.show()"
   ]
  },
  {
   "cell_type": "markdown",
   "id": "39d55297",
   "metadata": {},
   "source": [
    "##### boxplot annual income to remove outliers"
   ]
  },
  {
   "cell_type": "code",
   "execution_count": 11,
   "id": "fb972f24",
   "metadata": {},
   "outputs": [
    {
     "data": {
      "image/png": "[encoded data removed]",
      "text/plain": [
       "<Figure size 432x288 with 1 Axes>"
      ]
     },
     "metadata": {
      "needs_background": "light"
     },
     "output_type": "display_data"
    }
   ],
   "source": [
    "plt.boxplot(loan.annual_inc)\n",
    "plt.show()"
   ]
  },
  {
   "cell_type": "markdown",
   "id": "a03b8807",
   "metadata": {},
   "source": [
    "##### remove all records with more than 100,000 annual income"
   ]
  },
  {
   "cell_type": "code",
   "execution_count": 12,
   "id": "94aeb92c",
   "metadata": {},
   "outputs": [],
   "source": [
    "loan = loan[loan.annual_inc < 100000]"
   ]
  },
  {
   "cell_type": "code",
   "execution_count": 13,
   "id": "9c11e88b",
   "metadata": {},
   "outputs": [
    {
     "data": {
      "image/png": "[encoded data removed]",
      "text/plain": [
       "<Figure size 432x288 with 1 Axes>"
      ]
     },
     "metadata": {
      "needs_background": "light"
     },
     "output_type": "display_data"
    }
   ],
   "source": [
    "plt.boxplot(loan.annual_inc)\n",
    "plt.show()"
   ]
  },
  {
   "cell_type": "markdown",
   "id": "3b3a9dca",
   "metadata": {},
   "source": [
    "## Univariate analysis on all loan accounts\n",
    "    1. Loan Amount \n",
    "    2. Interest rate\n",
    "    "
   ]
  },
  {
   "cell_type": "code",
   "execution_count": 17,
   "id": "011bd47c",
   "metadata": {},
   "outputs": [
    {
     "data": {
      "text/plain": [
       "count    33155.000000\n",
       "mean      9990.154577\n",
       "std       6259.765639\n",
       "min        500.000000\n",
       "25%       5000.000000\n",
       "50%       8650.000000\n",
       "75%      14000.000000\n",
       "max      30000.000000\n",
       "Name: loan_amnt, dtype: float64"
      ]
     },
     "execution_count": 17,
     "metadata": {},
     "output_type": "execute_result"
    }
   ],
   "source": [
    "loan.loan_amnt.describe()"
   ]
  },
  {
   "cell_type": "code",
   "execution_count": 24,
   "id": "45643958",
   "metadata": {},
   "outputs": [
    {
     "data": {
      "text/plain": [
       "count    33155.000000\n",
       "mean        11.881906\n",
       "std          3.633344\n",
       "min          5.420000\n",
       "25%          8.940000\n",
       "50%         11.710000\n",
       "75%         14.270000\n",
       "max         24.400000\n",
       "Name: int_rate, dtype: float64"
      ]
     },
     "execution_count": 24,
     "metadata": {},
     "output_type": "execute_result"
    }
   ],
   "source": [
    "loan.int_rate.describe()"
   ]
  },
  {
   "cell_type": "markdown",
   "id": "2423c9a5",
   "metadata": {},
   "source": [
    "## Overall loan account status "
   ]
  },
  {
   "cell_type": "code",
   "execution_count": 68,
   "id": "ae66003f",
   "metadata": {},
   "outputs": [
    {
     "data": {
      "image/png": "[encoded data removed]",
      "text/plain": [
       "<Figure size 432x288 with 1 Axes>"
      ]
     },
     "metadata": {},
     "output_type": "display_data"
    }
   ],
   "source": [
    "loan.loan_status.value_counts().plot.pie(autopct='%1.1f%%', textprops={'fontsize': 16, 'fontweight' : 20, 'color' : 'Black'}, startangle=90)\n",
    "plt.title(\"Loan account status\", fontdict={'fontsize': 20, 'fontweight' : 20, 'color' : 'Green'})\n",
    "plt.show()"
   ]
  },
  {
   "cell_type": "markdown",
   "id": "2637c5ea",
   "metadata": {},
   "source": [
    "## Filter out charged off loan account for analysis"
   ]
  },
  {
   "cell_type": "code",
   "execution_count": 15,
   "id": "01bcc2c2",
   "metadata": {},
   "outputs": [],
   "source": [
    "charged_off = loan[loan.loan_status == \"Charged Off\"]"
   ]
  },
  {
   "cell_type": "markdown",
   "id": "6d4d265c",
   "metadata": {},
   "source": [
    "## Statewise number of charged off loan accounts"
   ]
  },
  {
   "cell_type": "code",
   "execution_count": 51,
   "id": "2494207a",
   "metadata": {},
   "outputs": [
    {
     "data": {
      "image/png": "[encoded data removed]",
      "text/plain": [
       "<Figure size 864x432 with 1 Axes>"
      ]
     },
     "metadata": {
      "needs_background": "light"
     },
     "output_type": "display_data"
    }
   ],
   "source": [
    "plt.figure(figsize=(12,6))\n",
    "charged_off.groupby([\"addr_state\"])[\"loan_status\"].count().plot.bar()\n",
    "plt.title(\"Statewise charged off loans accounts\", fontdict={\"fontsize\": 20, \"fontweight\": 20, \"color\": \"Green\"})\n",
    "plt.show()"
   ]
  },
  {
   "cell_type": "markdown",
   "id": "c4255bd9",
   "metadata": {},
   "source": [
    "## Employment length wise charged off loan accounts"
   ]
  },
  {
   "cell_type": "code",
   "execution_count": 71,
   "id": "fd75d766",
   "metadata": {},
   "outputs": [
    {
     "data": {
      "image/png": "[encoded data removed]",
      "text/plain": [
       "<Figure size 864x432 with 1 Axes>"
      ]
     },
     "metadata": {
      "needs_background": "light"
     },
     "output_type": "display_data"
    }
   ],
   "source": [
    "plt.figure(figsize=(12,6))\n",
    "charged_off.groupby([\"emp_length\"])[\"loan_status\"].count().plot.bar()\n",
    "plt.title(\"Employment length wise charged off loans accounts\", fontdict={\"fontsize\": 20, \"fontweight\": 20, \"color\": \"Green\"})\n",
    "plt.show()"
   ]
  },
  {
   "cell_type": "markdown",
   "id": "54686d3a",
   "metadata": {},
   "source": [
    "##  Charged off loan accounts Vs home ownership"
   ]
  },
  {
   "cell_type": "code",
   "execution_count": 38,
   "id": "6bba4d0b",
   "metadata": {},
   "outputs": [
    {
     "data": {
      "image/png": "[encoded data removed]",
      "text/plain": [
       "<Figure size 432x288 with 1 Axes>"
      ]
     },
     "metadata": {
      "needs_background": "light"
     },
     "output_type": "display_data"
    }
   ],
   "source": [
    "plt.hist(charged_off.home_ownership)\n",
    "plt.title(\"Home ownership of charged off loans applicant\", fontdict={\"fontsize\": 20, \"fontweight\": 20, \"color\": \"Green\"})\n",
    "plt.show()"
   ]
  },
  {
   "cell_type": "markdown",
   "id": "65c15bbd",
   "metadata": {},
   "source": [
    "##### loan purpose of charged off loans"
   ]
  },
  {
   "cell_type": "code",
   "execution_count": 37,
   "id": "64b89609",
   "metadata": {},
   "outputs": [
    {
     "data": {
      "image/png": "[encoded data removed]",
      "text/plain": [
       "<Figure size 432x288 with 1 Axes>"
      ]
     },
     "metadata": {
      "needs_background": "light"
     },
     "output_type": "display_data"
    }
   ],
   "source": [
    "plt.hist(charged_off.purpose)\n",
    "plt.xticks(rotation=90)\n",
    "plt.title(\"Loan purpose of charged off loans\", fontdict={\"fontsize\": 20, \"fontweight\": 20, \"color\": \"Green\"})\n",
    "plt.show()"
   ]
  },
  {
   "cell_type": "markdown",
   "id": "d903ba86",
   "metadata": {},
   "source": [
    "#### Charged off loan distribution based on income varification"
   ]
  },
  {
   "cell_type": "code",
   "execution_count": 36,
   "id": "7d544fa4",
   "metadata": {},
   "outputs": [
    {
     "data": {
      "image/png": "[encoded data removed]",
      "text/plain": [
       "<Figure size 432x288 with 1 Axes>"
      ]
     },
     "metadata": {},
     "output_type": "display_data"
    }
   ],
   "source": [
    "charged_off.verification_status.value_counts().plot.pie(autopct='%1.1f%%', textprops={'fontsize': 16, 'fontweight' : 20, 'color' : 'Black'}, startangle=90)\n",
    "plt.title(\"Income varification status of charged off loans\", fontdict={'fontsize': 20, 'fontweight' : 20, 'color' : 'Green'})\n",
    "plt.show()"
   ]
  },
  {
   "cell_type": "markdown",
   "id": "5f109d77",
   "metadata": {},
   "source": [
    "#### Median intertest rate for income source varification and house ownership"
   ]
  },
  {
   "cell_type": "code",
   "execution_count": 57,
   "id": "87b1757d",
   "metadata": {},
   "outputs": [],
   "source": [
    "loans_home_ownership = pd.pivot_table(data=loan,index=\"verification_status\",columns=\"home_ownership\",values=\"int_rate\",aggfunc=np.median)"
   ]
  },
  {
   "cell_type": "code",
   "execution_count": 63,
   "id": "ffce8f44",
   "metadata": {},
   "outputs": [
    {
     "data": {
      "image/png": "[encoded data removed]",
      "text/plain": [
       "<Figure size 432x288 with 2 Axes>"
      ]
     },
     "metadata": {
      "needs_background": "light"
     },
     "output_type": "display_data"
    }
   ],
   "source": [
    "sns.heatmap(loans_home_ownership, annot=True)\n",
    "plt.title(\"Income varification status vs Home ownership status vs average interest rate\", fontdict={'fontsize': 20, 'fontweight' : 20, 'color' : 'Green'})\n",
    "plt.show()"
   ]
  },
  {
   "cell_type": "code",
   "execution_count": null,
   "id": "f50c54fa",
   "metadata": {},
   "outputs": [],
   "source": []
  }
 ],
 "metadata": {
  "kernelspec": {
   "display_name": "Python 3 (ipykernel)",
   "language": "python",
   "name": "python3"
  },
  "language_info": {
   "codemirror_mode": {
    "name": "ipython",
    "version": 3
   },
   "file_extension": ".py",
   "mimetype": "text/x-python",
   "name": "python",
   "nbconvert_exporter": "python",
   "pygments_lexer": "ipython3",
   "version": "3.9.12"
  }
 },
 "nbformat": 4,
 "nbformat_minor": 5
}
